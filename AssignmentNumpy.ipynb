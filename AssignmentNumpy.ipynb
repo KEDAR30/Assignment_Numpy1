{
  "nbformat": 4,
  "nbformat_minor": 0,
  "metadata": {
    "colab": {
      "name": "AssignmentNumpy.ipynb",
      "provenance": [],
      "collapsed_sections": [],
      "authorship_tag": "ABX9TyPL6rpGwQ4IXosKouX01AtR",
      "include_colab_link": true
    },
    "kernelspec": {
      "name": "python3",
      "display_name": "Python 3"
    },
    "language_info": {
      "name": "python"
    }
  },
  "cells": [
    {
      "cell_type": "markdown",
      "metadata": {
        "id": "view-in-github",
        "colab_type": "text"
      },
      "source": [
        "<a href=\"https://colab.research.google.com/github/KEDAR30/Assignment_Numpy1/blob/main/AssignmentNumpy.ipynb\" target=\"_parent\"><img src=\"https://colab.research.google.com/assets/colab-badge.svg\" alt=\"Open In Colab\"/></a>"
      ]
    },
    {
      "cell_type": "code",
      "execution_count": 27,
      "metadata": {
        "colab": {
          "base_uri": "https://localhost:8080/"
        },
        "id": "FHaOac_6qIzq",
        "outputId": "d68e3f0c-b426-4eae-86ea-f920add57306"
      },
      "outputs": [
        {
          "output_type": "execute_result",
          "data": {
            "text/plain": [
              "array([0., 0., 0., 0., 1., 0., 0., 0., 0., 0.])"
            ]
          },
          "metadata": {},
          "execution_count": 27
        }
      ],
      "source": [
        "#1. Create a null vector of size 10 but the fifth value which is 1.\n",
        "import numpy as np\n",
        "data=np.zeros(10)\n",
        "data[4]=1\n",
        "data"
      ]
    },
    {
      "cell_type": "code",
      "source": [
        "#2.Create a vector with values ranging from 10 to 49.\n",
        "df=np.arange(10,50)\n",
        "df"
      ],
      "metadata": {
        "colab": {
          "base_uri": "https://localhost:8080/"
        },
        "id": "K0fwB7rOqYyN",
        "outputId": "01db4c95-f012-44c8-ece0-97105fc058a2"
      },
      "execution_count": 8,
      "outputs": [
        {
          "output_type": "execute_result",
          "data": {
            "text/plain": [
              "array([10, 11, 12, 13, 14, 15, 16, 17, 18, 19, 20, 21, 22, 23, 24, 25, 26,\n",
              "       27, 28, 29, 30, 31, 32, 33, 34, 35, 36, 37, 38, 39, 40, 41, 42, 43,\n",
              "       44, 45, 46, 47, 48, 49])"
            ]
          },
          "metadata": {},
          "execution_count": 8
        }
      ]
    },
    {
      "cell_type": "code",
      "source": [
        "#3. Create a 3x3 matrix with values ranging from 0 to 8\n",
        "text = np.arange(9).reshape(3,3)\n",
        "text\n"
      ],
      "metadata": {
        "colab": {
          "base_uri": "https://localhost:8080/"
        },
        "id": "XSn4lJfyq2dA",
        "outputId": "08bcdee7-0b97-48dd-f42f-559c3d5450ed"
      },
      "execution_count": 9,
      "outputs": [
        {
          "output_type": "execute_result",
          "data": {
            "text/plain": [
              "array([[0, 1, 2],\n",
              "       [3, 4, 5],\n",
              "       [6, 7, 8]])"
            ]
          },
          "metadata": {},
          "execution_count": 9
        }
      ]
    },
    {
      "cell_type": "code",
      "source": [
        "#4.Find indices of non-zero elements from [1,2,0,0,4,0]\n",
        "data=np.nonzero([1,2,0,0,4,0])\n",
        "data"
      ],
      "metadata": {
        "colab": {
          "base_uri": "https://localhost:8080/"
        },
        "id": "AYWYBWkCrggS",
        "outputId": "2b660fbc-db59-43c9-9b23-1da4eb6c16b3"
      },
      "execution_count": 10,
      "outputs": [
        {
          "output_type": "execute_result",
          "data": {
            "text/plain": [
              "(array([0, 1, 4]),)"
            ]
          },
          "metadata": {},
          "execution_count": 10
        }
      ]
    },
    {
      "cell_type": "code",
      "source": [
        "#5. Create a 10x10 array with random values and find the minimum and maximum values.\n",
        "\n",
        "min,max=df.min(),df.max()\n",
        "min,max"
      ],
      "metadata": {
        "colab": {
          "base_uri": "https://localhost:8080/"
        },
        "id": "cyRLQ73PrtSi",
        "outputId": "3566e647-0b48-44d8-b0ca-8135cfe5d966"
      },
      "execution_count": 19,
      "outputs": [
        {
          "output_type": "execute_result",
          "data": {
            "text/plain": [
              "(0.005782842609568184, 0.9966216325345951)"
            ]
          },
          "metadata": {},
          "execution_count": 19
        }
      ]
    },
    {
      "cell_type": "code",
      "source": [
        "#6. Create a random vector of size 30 and find the mean value.\n",
        "df=np.random.random(30)\n",
        "text=df.mean()\n",
        "text"
      ],
      "metadata": {
        "colab": {
          "base_uri": "https://localhost:8080/"
        },
        "id": "vU-YkhFPr6yI",
        "outputId": "710399b1-f842-44b6-fb94-5646025caeba"
      },
      "execution_count": 22,
      "outputs": [
        {
          "output_type": "execute_result",
          "data": {
            "text/plain": [
              "0.525873486136833"
            ]
          },
          "metadata": {},
          "execution_count": 22
        }
      ]
    }
  ]
}